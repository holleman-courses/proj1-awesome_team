{
 "cells": [
  {
   "cell_type": "markdown",
   "metadata": {},
   "source": [
    "# Initialization"
   ]
  },
  {
   "cell_type": "code",
   "execution_count": null,
   "metadata": {},
   "outputs": [],
   "source": [
    "import numpy as np\n",
    "import tempfile\n",
    "import tensorflow as tf\n",
    "from tf_keras import models, optimizers, layers\n",
    "import tf_keras as keras\n",
    "import tensorflow_model_optimization as tfmot\n",
    "from classifier import ResNet\n",
    "\n",
    "\n",
    "def gen_checkpoint_callback(path):\n",
    "  return keras.callbacks.ModelCheckpoint(\n",
    "      path,\n",
    "      save_best_only=True,\n",
    "      monitor='val_accuracy',\n",
    "      mode='max',\n",
    "  )\n",
    "\n",
    "image_size = (176, 144)\n",
    "\n",
    "train, val = keras.utils.image_dataset_from_directory(\n",
    "    directory = 'dataset',\n",
    "    labels='inferred',\n",
    "    label_mode='binary',\n",
    "    color_mode='grayscale',\n",
    "    batch_size=32,\n",
    "    image_size=image_size,\n",
    "    shuffle=True,\n",
    "    seed=42,\n",
    "    validation_split=0.2,\n",
    "    subset='both'\n",
    ")\n"
   ]
  },
  {
   "cell_type": "markdown",
   "metadata": {},
   "source": [
    "# Baseline Acc"
   ]
  },
  {
   "cell_type": "code",
   "execution_count": null,
   "metadata": {},
   "outputs": [],
   "source": [
    "model = models.load_model('model.h5')\n",
    "print(\"Baseline Accuracy\")\n",
    "model.evaluate(val)"
   ]
  },
  {
   "cell_type": "markdown",
   "metadata": {},
   "source": [
    "# Pruning"
   ]
  },
  {
   "cell_type": "code",
   "execution_count": null,
   "metadata": {},
   "outputs": [],
   "source": [
    "\n",
    "print('Begin Pruning')\n",
    "pruning_params = {\n",
    "    'pruning_schedule': tfmot.sparsity.keras.ConstantSparsity(0.5, begin_step=0, frequency=100)\n",
    "}\n",
    "\n",
    "prune_callbacks = [\n",
    "    tfmot.sparsity.keras.UpdatePruningStep(),\n",
    "    gen_checkpoint_callback('models/pruned_model.h5')\n",
    "]\n",
    "\n",
    "pruned_model = tfmot.sparsity.keras.prune_low_magnitude(model, **pruning_params)\n",
    "opt = optimizers.Adam(learning_rate=1e-5, weight_decay=1e-7)\n",
    "pruned_model.compile(optimizer=opt, loss='binary_crossentropy', metrics=['accuracy'])\n",
    "\n",
    "print(\"Pruning Tuning\")\n",
    "pruned_model.fit(train, epochs=20, validation_data=val, validation_batch_size=179, callbacks=prune_callbacks)\n",
    "\n",
    "del pruned_model\n",
    "\n",
    "pruned_model = models.load_model('models/pruned_model.h5')\n",
    "print(\"Pruned Model Accuracy\")\n",
    "pruned_model.evaluate(val)"
   ]
  },
  {
   "cell_type": "markdown",
   "metadata": {},
   "source": [
    "# Clustering"
   ]
  },
  {
   "cell_type": "code",
   "execution_count": null,
   "metadata": {},
   "outputs": [],
   "source": [
    "stripped_pruned_model = tfmot.sparsity.keras.strip_pruning(pruned_model)\n",
    "\n",
    "\n",
    "print(\"Begin Clustering\")\n",
    "\n",
    "\n",
    "from tensorflow_model_optimization.python.core.clustering.keras.experimental import (\n",
    "    cluster,\n",
    ")\n",
    "\n",
    "cluster_weights = tfmot.clustering.keras.cluster_weights\n",
    "CentroidInitialization = tfmot.clustering.keras.CentroidInitialization\n",
    "\n",
    "cluster_weights = cluster.cluster_weights\n",
    "\n",
    "clustering_params = {\n",
    "  'number_of_clusters': 8,\n",
    "  'cluster_centroids_init': CentroidInitialization.KMEANS_PLUS_PLUS,\n",
    "  'preserve_sparsity': True\n",
    "}\n",
    "\n",
    "sparsity_clustered_model = cluster_weights(stripped_pruned_model, **clustering_params)\n",
    "\n",
    "sparsity_clustered_model.compile(optimizer=optimizers.Adam(learning_rate=1e-5, weight_decay=1e-7),\n",
    "              loss=keras.losses.BinaryCrossentropy(from_logits=False),\n",
    "              metrics=['accuracy'])\n",
    "\n",
    "print('Train sparsity preserving clustering model:')\n",
    "sparsity_clustered_model.fit(train, epochs=20, validation_data=val, validation_batch_size=179, callbacks=[gen_checkpoint_callback('models/sparsity_clustered_model.h5')])\n",
    "del sparsity_clustered_model\n",
    "sparsity_clustered_model = models.load_model('models/sparsity_clustered_model.h5')\n",
    "sparsity_clustered_model.evaluate(val)\n",
    "\n",
    "stripped_clustered_model = tfmot.clustering.keras.strip_clustering(sparsity_clustered_model)"
   ]
  },
  {
   "cell_type": "markdown",
   "metadata": {},
   "source": [
    "# PCQAT"
   ]
  },
  {
   "cell_type": "code",
   "execution_count": null,
   "metadata": {},
   "outputs": [],
   "source": [
    "print(\"Begin PCQuantization Aware Training\")\n",
    "# PCQAT\n",
    "quant_aware_annotate_model = tfmot.quantization.keras.quantize_annotate_model(\n",
    "              stripped_clustered_model)\n",
    "pcqat_model = tfmot.quantization.keras.quantize_apply(\n",
    "              quant_aware_annotate_model,\n",
    "              tfmot.experimental.combine.Default8BitClusterPreserveQuantizeScheme(preserve_sparsity=True))\n",
    "\n",
    "pcqat_model.compile(optimizer=optimizers.Adam(learning_rate=1e-5, weight_decay=1e-7),\n",
    "              loss=keras.losses.BinaryCrossentropy(from_logits=False),\n",
    "              metrics=['accuracy'])\n",
    "print('Train pcqat model:')\n",
    "pcqat_model.fit(train, epochs=20, validation_data=val, validation_batch_size=179, callbacks=[gen_checkpoint_callback('models/pcqat_model.h5')])\n",
    "del pcqat_model\n",
    "pcqat_model = models.load_model('models/pcqat_model.h5')\n",
    "print(\"PCQAT Model Accuracy\")\n",
    "pcqat_model.evaluate(val)"
   ]
  },
  {
   "cell_type": "markdown",
   "metadata": {},
   "source": [
    "# TFLite Conversion"
   ]
  },
  {
   "cell_type": "code",
   "execution_count": null,
   "metadata": {},
   "outputs": [],
   "source": [
    "print(\"Begin TFLite Conversion\")\n",
    "\n",
    "def representative_data_gen():\n",
    "  for input_value, _ in val:\n",
    "    yield [input_value]\n",
    "  \n",
    "converter = tf.lite.TFLiteConverter.from_keras_model(pcqat_model)\n",
    "converter.optimizations = [tf.lite.Optimize.DEFAULT]\n",
    "converter.representative_dataset = representative_data_gen\n",
    "converter.target_spec.supported_ops = [tf.lite.OpsSet.TFLITE_BUILTINS_INT8]\n",
    "converter.inference_input_type = tf.int8\n",
    "converter.inference_output_type = tf.int8\n",
    "\n",
    "tflite_quant_model = converter.convert()\n",
    "# Save the TFLite model\n",
    "with open(\"models/model.tflite\", \"wb\") as f:\n",
    "    f.write(tflite_quant_model)"
   ]
  },
  {
   "cell_type": "markdown",
   "metadata": {},
   "source": [
    "# TFLite Testing"
   ]
  },
  {
   "cell_type": "code",
   "execution_count": null,
   "metadata": {},
   "outputs": [],
   "source": [
    "\n",
    "interpreter = tf.lite.Interpreter(model_path=\"models/model.tflite\")\n",
    "interpreter.allocate_tensors()\n",
    "\n",
    "input_details = interpreter.get_input_details()\n",
    "output_details = interpreter.get_output_details()\n",
    "\n",
    "# Get quantization parameters\n",
    "input_scale = input_details[0]['quantization'][0]\n",
    "input_zero_point = input_details[0]['quantization'][1]\n",
    "\n",
    "print(f\"Input Scale: {input_scale} | Input Zero Point: {input_zero_point}\")\n",
    "print(f\"Output Scale: {output_details[0]['quantization'][0]} | Output Zero Point: {output_details[0]['quantization'][1]}\")\n",
    "\n",
    "size = 0\n",
    "for tensor in interpreter.get_tensor_details():\n",
    "    match tensor['dtype']:\n",
    "        case np.int8:\n",
    "            size += np.prod(tensor['shape'])\n",
    "        case np.float32:\n",
    "            size += np.prod(tensor['shape']) * 4\n",
    "        case np.int32:\n",
    "            if 'pseudo' in tensor['name']:\n",
    "                continue\n",
    "            size += np.prod(tensor['shape']) * 4\n",
    "        case _:\n",
    "            raise ValueError(f\"Unsupported data type: {tensor['dtype']}\")\n",
    "    \n",
    "            \n",
    "\n",
    "print(f\"Arena Size: {size} bytes\")"
   ]
  }
 ],
 "metadata": {
  "kernelspec": {
   "display_name": "env",
   "language": "python",
   "name": "python3"
  },
  "language_info": {
   "name": "python",
   "version": "3.11.11"
  }
 },
 "nbformat": 4,
 "nbformat_minor": 2
}
